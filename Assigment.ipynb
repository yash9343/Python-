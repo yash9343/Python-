{
  "nbformat": 4,
  "nbformat_minor": 0,
  "metadata": {
    "colab": {
      "provenance": []
    },
    "kernelspec": {
      "name": "python3",
      "display_name": "Python 3"
    },
    "language_info": {
      "name": "python"
    }
  },
  "cells": [
    {
      "cell_type": "markdown",
      "source": [
        "Q1} What is Python, and why is it popular ?\n",
        "\n",
        "\n",
        "Ans] Python is interpreted , object oriented and  high level programming language. It is easy to learn and widely used in web development , data analysis , Aritificial intelligence, Scientific computing and more.\n",
        "\n",
        "python is popular because it is open-source and has a large community that contributes to its extensive libraries and frameworks.  "
      ],
      "metadata": {
        "id": "apShOZdYSGoR"
      }
    },
    {
      "cell_type": "markdown",
      "source": [
        "Q2} What is an interpreter in Python?\n",
        "\n",
        "\n",
        "Ans] An interpreter is read and run code line by line, directly translating it into machine-understandable instructions.\n",
        "\n",
        "> Add blockquote\n",
        "\n"
      ],
      "metadata": {
        "id": "JC51ESNVSGr3"
      }
    },
    {
      "cell_type": "markdown",
      "source": [
        "Q3} What are pre-defined keywords in Python?\n",
        "\n",
        "\n",
        "Ans] Pre-defined keywords in Python are reserved words that have special meaning in the language.\n",
        "we cannot use them as variable names, function names, or identifiers."
      ],
      "metadata": {
        "id": "UNyestmQQRGx"
      }
    },
    {
      "cell_type": "markdown",
      "source": [
        "Q4} Can keywords be used as variable names?\n",
        "\n",
        "\n",
        "Ans]Keyword cannot be used as variable name Because keywords are reserved words in Python—they define the structure, logic, and rules of the language.\n",
        "Using them as variable names would confuse the interpreter.\n",
        "\n"
      ],
      "metadata": {
        "id": "JAegVeE0QxD-"
      }
    },
    {
      "cell_type": "markdown",
      "source": [
        "Q5 8 What is mutability in Python?\n",
        "\n",
        "Ans] Mutability refers to whether or not an object’s value can be changed after it is created."
      ],
      "metadata": {
        "id": "xYTqwmbDQyCT"
      }
    },
    {
      "cell_type": "markdown",
      "source": [
        "Q6 Why are lists mutable, but tuples are immutable?\n",
        "\n",
        "Ans] Lists are designed for dynamic data — they allow flexible updates, which is useful for many real-world problems (e.g., adding items to a cart, processing data, etc.).\n",
        "\n",
        "Tuples are designed for fixed, constant data — they:\n",
        "\n",
        "Make code safer by preventing accidental changes\n",
        "\n",
        "Can be used as keys in dictionaries\n",
        "\n",
        "Are more memory-efficient and faster than lists."
      ],
      "metadata": {
        "id": "ZKQ0vRskQyQb"
      }
    },
    {
      "cell_type": "markdown",
      "source": [
        "Q7}  What is the difference between “==” and “is” operators in Python?\n",
        "\n",
        "Ans] \"==\" operater is call Eqality operator it checks if the value of two variables are equal even if they are store at diffent locations by memory.\n",
        "\n",
        "\"is\" operator is Identity operator it Checks if two variables point to the exact same object in memory."
      ],
      "metadata": {
        "id": "5NGgea4mQyeR"
      }
    },
    {
      "cell_type": "markdown",
      "source": [
        "Q8} What are logical operators in Python?\n",
        "\n",
        "Ans] Logical operators are used to combine conditional statements and return a Boolean (True or False) result."
      ],
      "metadata": {
        "id": "KZLRd5p6QypU"
      }
    },
    {
      "cell_type": "markdown",
      "source": [
        "Q9} What is type casting in Python?\n",
        "\n",
        "Ans] Type casting means converting one data type into another, like turning an int into a float, a str into an int, etc.\n",
        "\n",
        "It's useful when:\n",
        "\n",
        "we want to perform operations between different types.\n",
        "\n",
        "we get user input (usually as strings) and want to convert it to numbers.\n",
        "\n"
      ],
      "metadata": {
        "id": "cMOdmB2SQyss"
      }
    },
    {
      "cell_type": "markdown",
      "source": [
        "Q10} What is the difference between implicit and explicit type casting?\n",
        "\n",
        "Ans] Python converts values automatically when needed (usually to avoid data loss) is called implicit typecasting.\n",
        "\n",
        "we manually convert one type to another using functions like int(), float(), str(), etc.is called explicit typecasting."
      ],
      "metadata": {
        "id": "pNPa_K6mQyvg"
      }
    },
    {
      "cell_type": "markdown",
      "source": [
        "Q11} What is the purpose of conditional statements in Python?\n",
        "\n",
        "Ans] Conditional statements are used to make decisions in  code — they allow program to take different paths depending on whether a condition is True or False.\n",
        "\n",
        "the purpose of using it  To make our program behave dynamically and intelligently based on input, data, or logic.\n",
        "Without conditionals,  code would run the same way every time — no flexibility.\n",
        "\n"
      ],
      "metadata": {
        "id": "PVfdqra1Qyy5"
      }
    },
    {
      "cell_type": "markdown",
      "source": [
        "Q12}  How does the elif statement work?\n",
        "\n",
        "Ans] The elif (short for \"else if\") is used to check multiple conditions after the initial if condition.\n",
        "It only runs if the previous if or elif was False.\n",
        "\n"
      ],
      "metadata": {
        "id": "wzNlGEt7Qy2W"
      }
    },
    {
      "cell_type": "markdown",
      "source": [
        "Q13} What is the difference between for and while loops?\n",
        "\n",
        "Ans] while loop is runs block of code multiple times  while condition is not false\n",
        "\n",
        "For loop is used for iterate every element of list, tuplr, string etc."
      ],
      "metadata": {
        "id": "O2R80ly6Qy55"
      }
    },
    {
      "cell_type": "markdown",
      "source": [
        "Q14}Describe a scenario where a while loop is more suitable than a for loop.\n",
        "\n",
        "Ans] A while loop is more suitable when we don’t know in advance how many times we’ll need to repeat something — we just keep going until a condition becomes False.\n",
        "\n"
      ],
      "metadata": {
        "id": "cwlEQIjyQy8-"
      }
    },
    {
      "cell_type": "markdown",
      "source": [
        "PRACTICAL QUESTIONS:-"
      ],
      "metadata": {
        "id": "kMWxYo5NQzAE"
      }
    },
    {
      "cell_type": "markdown",
      "source": [
        "Q1} Write a Python program to print \"Hello, World!\".\n",
        "\n",
        "Ans]"
      ],
      "metadata": {
        "id": "xNucCfUObPjN"
      }
    },
    {
      "cell_type": "code",
      "source": [
        "print(\"Hello, World!\")\n"
      ],
      "metadata": {
        "colab": {
          "base_uri": "https://localhost:8080/"
        },
        "collapsed": true,
        "id": "AuaXrZMXbT3o",
        "outputId": "66f8119a-45c7-4184-fc6c-c4b4313e60e8"
      },
      "execution_count": 2,
      "outputs": [
        {
          "output_type": "stream",
          "name": "stdout",
          "text": [
            "Hello, World!\n"
          ]
        }
      ]
    },
    {
      "cell_type": "markdown",
      "source": [
        "Q2}Write a Python program that displays your name and age.\n",
        "\n",
        "Ans]"
      ],
      "metadata": {
        "id": "EdQp6dfsbaV_"
      }
    },
    {
      "cell_type": "code",
      "source": [
        "name = \"Yash\"\n",
        "age = 21\n",
        "\n",
        "print(\"My name is\", name)\n",
        "print(\"I am\", age, \"years old\")\n"
      ],
      "metadata": {
        "colab": {
          "base_uri": "https://localhost:8080/"
        },
        "collapsed": true,
        "id": "f5Atoe0WbkkJ",
        "outputId": "53091c3d-733a-4fd4-9152-cf45027a77fc"
      },
      "execution_count": 3,
      "outputs": [
        {
          "output_type": "stream",
          "name": "stdout",
          "text": [
            "My name is Yash\n",
            "I am 21 years old\n"
          ]
        }
      ]
    },
    {
      "cell_type": "markdown",
      "source": [
        "Q3} Write code to print all the pre-defined keywords in Python using the keyword library.\n",
        "\n",
        "Ans]"
      ],
      "metadata": {
        "id": "a0yk5xRXfH0E"
      }
    },
    {
      "cell_type": "code",
      "source": [
        "import keyword\n",
        "\n",
        "# Get all Python keywords\n",
        "keywords = keyword.kwlist\n",
        "\n",
        "print(\"Python Pre-defined Keywords:\")\n",
        "for kw in keywords:\n",
        "    print(kw)\n"
      ],
      "metadata": {
        "colab": {
          "base_uri": "https://localhost:8080/"
        },
        "collapsed": true,
        "id": "VOC3H4sKfTLh",
        "outputId": "067812d4-3a88-43c0-97e0-65b1e9cbf6bf"
      },
      "execution_count": 6,
      "outputs": [
        {
          "output_type": "stream",
          "name": "stdout",
          "text": [
            "Python Pre-defined Keywords:\n",
            "False\n",
            "None\n",
            "True\n",
            "and\n",
            "as\n",
            "assert\n",
            "async\n",
            "await\n",
            "break\n",
            "class\n",
            "continue\n",
            "def\n",
            "del\n",
            "elif\n",
            "else\n",
            "except\n",
            "finally\n",
            "for\n",
            "from\n",
            "global\n",
            "if\n",
            "import\n",
            "in\n",
            "is\n",
            "lambda\n",
            "nonlocal\n",
            "not\n",
            "or\n",
            "pass\n",
            "raise\n",
            "return\n",
            "try\n",
            "while\n",
            "with\n",
            "yield\n"
          ]
        }
      ]
    },
    {
      "cell_type": "markdown",
      "source": [
        "Q4} Write a program that checks if a given word is a Python keyword.\n",
        "\n",
        "Ans]"
      ],
      "metadata": {
        "id": "ypOovDRrf_E3"
      }
    },
    {
      "cell_type": "code",
      "source": [
        "import keyword\n",
        "\n",
        "# Take input from the user\n",
        "word = input(\"Enter a word: \")\n",
        "\n",
        "# Check if it's a Python keyword\n",
        "if keyword.iskeyword(word):\n",
        "    print(f\"'{word}' is a Python keyword.\")\n",
        "else:\n",
        "    print(f\"'{word}' is NOT a Python keyword.\")\n"
      ],
      "metadata": {
        "colab": {
          "base_uri": "https://localhost:8080/"
        },
        "collapsed": true,
        "id": "r_tqkHGigMSo",
        "outputId": "bfb2dab9-fda7-45c9-d052-4c9391cceeb9"
      },
      "execution_count": 7,
      "outputs": [
        {
          "output_type": "stream",
          "name": "stdout",
          "text": [
            "Enter a word: none\n",
            "'none' is NOT a Python keyword.\n"
          ]
        }
      ]
    },
    {
      "cell_type": "markdown",
      "source": [
        "Q5} Create a list and tuple in Python, and demonstrate how attempting to change an element works differently\n",
        "for each.\n",
        "\n",
        "Ans]"
      ],
      "metadata": {
        "id": "s2d3bcpJgldV"
      }
    },
    {
      "cell_type": "code",
      "source": [
        "# List (mutable)\n",
        "my_list = [1, 2, 3]\n",
        "my_list[0] = 100\n",
        "print(\"List after change:\", my_list)\n",
        "\n",
        "# Tuple (immutable)\n",
        "my_tuple = (1, 2, 3)\n",
        "# This will cause an error\n",
        "my_tuple[0] = 100\n"
      ],
      "metadata": {
        "colab": {
          "base_uri": "https://localhost:8080/",
          "height": 193
        },
        "collapsed": true,
        "id": "-n4AnGIyhgUD",
        "outputId": "f8d7e5f6-0b53-4433-dd09-6e78a3612005"
      },
      "execution_count": 8,
      "outputs": [
        {
          "output_type": "stream",
          "name": "stdout",
          "text": [
            "List after change: [100, 2, 3]\n"
          ]
        },
        {
          "output_type": "error",
          "ename": "TypeError",
          "evalue": "'tuple' object does not support item assignment",
          "traceback": [
            "\u001b[0;31m---------------------------------------------------------------------------\u001b[0m",
            "\u001b[0;31mTypeError\u001b[0m                                 Traceback (most recent call last)",
            "\u001b[0;32m/tmp/ipython-input-3784982384.py\u001b[0m in \u001b[0;36m<cell line: 0>\u001b[0;34m()\u001b[0m\n\u001b[1;32m      7\u001b[0m \u001b[0mmy_tuple\u001b[0m \u001b[0;34m=\u001b[0m \u001b[0;34m(\u001b[0m\u001b[0;36m1\u001b[0m\u001b[0;34m,\u001b[0m \u001b[0;36m2\u001b[0m\u001b[0;34m,\u001b[0m \u001b[0;36m3\u001b[0m\u001b[0;34m)\u001b[0m\u001b[0;34m\u001b[0m\u001b[0;34m\u001b[0m\u001b[0m\n\u001b[1;32m      8\u001b[0m \u001b[0;31m# This will cause an error\u001b[0m\u001b[0;34m\u001b[0m\u001b[0;34m\u001b[0m\u001b[0m\n\u001b[0;32m----> 9\u001b[0;31m \u001b[0mmy_tuple\u001b[0m\u001b[0;34m[\u001b[0m\u001b[0;36m0\u001b[0m\u001b[0;34m]\u001b[0m \u001b[0;34m=\u001b[0m \u001b[0;36m100\u001b[0m\u001b[0;34m\u001b[0m\u001b[0;34m\u001b[0m\u001b[0m\n\u001b[0m",
            "\u001b[0;31mTypeError\u001b[0m: 'tuple' object does not support item assignment"
          ]
        }
      ]
    },
    {
      "cell_type": "markdown",
      "source": [
        "Q6}  Write a function to demonstrate the behavior of mutable and immutable arguments.\n",
        "\n",
        "Ans]"
      ],
      "metadata": {
        "id": "4t3Q8fVahnGD"
      }
    },
    {
      "cell_type": "code",
      "source": [
        "def change_values(a, b):\n",
        "    a = a + 10         # Immutable (int) – change won't affect original\n",
        "    b.append(4)        # Mutable (list) – change will affect original\n",
        "\n",
        "x = 5\n",
        "y = [1, 2, 3]\n",
        "\n",
        "change_values(x, y)\n",
        "\n",
        "print(\"x:\", x)     # Output: x: 5 (unchanged)\n",
        "print(\"y:\", y)     # Output: y: [1, 2, 3, 4] (changed)\n"
      ],
      "metadata": {
        "colab": {
          "base_uri": "https://localhost:8080/"
        },
        "collapsed": true,
        "id": "c6bPs382iU6I",
        "outputId": "b0e7130a-5f97-4111-f95c-53f1c16f15b0"
      },
      "execution_count": 9,
      "outputs": [
        {
          "output_type": "stream",
          "name": "stdout",
          "text": [
            "x: 5\n",
            "y: [1, 2, 3, 4]\n"
          ]
        }
      ]
    },
    {
      "cell_type": "markdown",
      "source": [
        "Q7}  Write a program that performs basic arithmetic operations on two user-input numbers.\n",
        "\n",
        "Ans]\n"
      ],
      "metadata": {
        "id": "AVb0Rje1iX8B"
      }
    },
    {
      "cell_type": "code",
      "source": [
        "# Take input from the user\n",
        "num1 = int(input(\"Enter first number: \"))35\n",
        "num2 = int(input(\"Enter second number: \"))\n",
        "\n",
        "# Perform arithmetic operations\n",
        "print(\"Addition:\", num1 + num2)\n",
        "print(\"Subtraction:\", num1 - num2)\n",
        "print(\"Multiplication:\", num1 * num2)\n",
        "\n",
        "# Avoid division by zero\n",
        "if num2 != 0:\n",
        "    print(\"Division:\", num1 / num2)\n",
        "    print(\"Modulus:\", num1 % num2)\n",
        "else:\n",
        "    print(\"Division and modulus by zero are not allowed.\")\n"
      ],
      "metadata": {
        "colab": {
          "base_uri": "https://localhost:8080/"
        },
        "collapsed": true,
        "id": "04Hdhr1RinEp",
        "outputId": "f6f5df1b-ca46-4afb-b591-2f2fd0fa8924"
      },
      "execution_count": 13,
      "outputs": [
        {
          "output_type": "stream",
          "name": "stdout",
          "text": [
            "Enter first number: 34\n",
            "Enter second number: 35\n",
            "Addition: 69\n",
            "Subtraction: -1\n",
            "Multiplication: 1190\n",
            "Division: 0.9714285714285714\n",
            "Modulus: 34\n"
          ]
        }
      ]
    },
    {
      "cell_type": "markdown",
      "source": [
        "Q8} Write a program to demonstrate the use of logical operators.\n",
        "\n",
        "Ans]"
      ],
      "metadata": {
        "id": "mdgIJ-FcjUOt"
      }
    },
    {
      "cell_type": "code",
      "source": [
        "# Take two numbers from the user\n",
        "a = int(input(\"Enter first number: \"))\n",
        "b = int(input(\"Enter second number: \"))\n",
        "\n",
        "# Logical AND\n",
        "if a > 0 and b > 0:\n",
        "    print(\"Both numbers are positive.\")\n",
        "\n",
        "# Logical OR\n",
        "if a > 0 or b > 0:\n",
        "    print(\"At least one number is positive.\")\n",
        "\n",
        "# Logical NOT\n",
        "if not (a < 0 or b < 0):\n",
        "    print(\"Neither number is negative.\")\n",
        "else:\n",
        "    print(\"At least one number is negative.\")\n"
      ],
      "metadata": {
        "colab": {
          "base_uri": "https://localhost:8080/"
        },
        "collapsed": true,
        "id": "F_Zni5uJkQpY",
        "outputId": "2a5a0c3f-28f9-44de-dfcf-f2b52e356264"
      },
      "execution_count": 14,
      "outputs": [
        {
          "output_type": "stream",
          "name": "stdout",
          "text": [
            "Enter first number: 12\n",
            "Enter second number: 12\n",
            "Both numbers are positive.\n",
            "At least one number is positive.\n",
            "Neither number is negative.\n"
          ]
        }
      ]
    },
    {
      "cell_type": "markdown",
      "source": [
        "Q9} Write a Python program to convert user input from string to integer, float, and boolean types.\n",
        "\n",
        "Ans]"
      ],
      "metadata": {
        "id": "7Q1GeS2MkYjG"
      }
    },
    {
      "cell_type": "code",
      "source": [
        "# Take input from the user as a string\n",
        "user_input = input(\"Enter a value: \")\n",
        "\n",
        "# Convert to integer\n",
        "try:\n",
        "    int_value = int(user_input)\n",
        "    print(\"Integer:\", int_value)\n",
        "except ValueError:\n",
        "    print(\"Cannot convert to Integer.\")\n",
        "\n",
        "# Convert to float\n",
        "try:\n",
        "    float_value = float(user_input)\n",
        "    print(\"Float:\", float_value)\n",
        "except ValueError:\n",
        "    print(\"Cannot convert to Float.\")\n",
        "\n",
        "# Convert to boolean\n",
        "bool_value = bool(user_input)\n",
        "print(\"Boolean:\", bool_value)\n"
      ],
      "metadata": {
        "colab": {
          "base_uri": "https://localhost:8080/"
        },
        "collapsed": true,
        "id": "OCyD9jkAkk1M",
        "outputId": "962ab02a-37d8-4751-f4c5-b9630579e6bf"
      },
      "execution_count": 15,
      "outputs": [
        {
          "output_type": "stream",
          "name": "stdout",
          "text": [
            "Enter a value: 32\n",
            "Integer: 32\n",
            "Float: 32.0\n",
            "Boolean: True\n"
          ]
        }
      ]
    },
    {
      "cell_type": "markdown",
      "source": [
        "Q10}  Write code to demonstrate type casting with list elements.\n",
        "\n",
        "Ans]"
      ],
      "metadata": {
        "id": "NcIZcCmlkt-d"
      }
    },
    {
      "cell_type": "code",
      "source": [
        "# List of numbers as strings\n",
        "str_list = ['10', '20', '30']\n",
        "\n",
        "# Convert to integers\n",
        "int_list = [int(x) for x in str_list]\n",
        "print(\"Integer list:\", int_list)\n",
        "\n",
        "# Convert to floats\n",
        "float_list = [float(x) for x in str_list]\n",
        "print(\"Float list:\", float_list)\n"
      ],
      "metadata": {
        "id": "HO3BTM15lAoZ"
      },
      "execution_count": null,
      "outputs": []
    },
    {
      "cell_type": "markdown",
      "source": [
        "Q11}  Write a program that checks if a number is positive, negative, or zero.\n",
        "\n",
        "Ans]"
      ],
      "metadata": {
        "id": "pHlIeik2lFM0"
      }
    },
    {
      "cell_type": "code",
      "source": [
        "# Take input from the user\n",
        "num = float(input(\"Enter a number: \"))\n",
        "\n",
        "# Check the number\n",
        "if num > 0:\n",
        "    print(\"The number is positive.\")\n",
        "elif num < 0:\n",
        "    print(\"The number is negative.\")\n",
        "else:\n",
        "    print(\"The number is zero.\")\n"
      ],
      "metadata": {
        "id": "O_nKjpCElPHG"
      },
      "execution_count": null,
      "outputs": []
    },
    {
      "cell_type": "markdown",
      "source": [
        "Q12}  Write a for loop to print numbers from 1 to 10.\n",
        "\n",
        "Ans]"
      ],
      "metadata": {
        "id": "lB1_yZ5HlW5e"
      }
    },
    {
      "cell_type": "code",
      "source": [
        "for i in range(1, 11):\n",
        "    print(i)\n"
      ],
      "metadata": {
        "id": "VLi_Vrwolg5O"
      },
      "execution_count": null,
      "outputs": []
    },
    {
      "cell_type": "markdown",
      "source": [
        "Q13}  Write a Python program to find the sum of all even numbers between 1 and 50.\n",
        "\n",
        "Ans]"
      ],
      "metadata": {
        "id": "Bh-Ug973lmBA"
      }
    },
    {
      "cell_type": "code",
      "source": [
        "total = 0\n",
        "\n",
        "for i in range(2, 51, 2):  # start from 2, go up to 50, step by 2\n",
        "    total += i\n",
        "\n",
        "print(\"Sum of even numbers from 1 to 50 is:\", total)\n"
      ],
      "metadata": {
        "colab": {
          "base_uri": "https://localhost:8080/"
        },
        "collapsed": true,
        "id": "kbsRBHt-luPi",
        "outputId": "d716e115-f159-4f82-e270-b40a9b18a539"
      },
      "execution_count": 16,
      "outputs": [
        {
          "output_type": "stream",
          "name": "stdout",
          "text": [
            "Sum of even numbers from 1 to 50 is: 650\n"
          ]
        }
      ]
    },
    {
      "cell_type": "markdown",
      "source": [
        "Q14} Write a program to reverse a string using a while loop.\n",
        "\n",
        "Ans]"
      ],
      "metadata": {
        "id": "TUoznftzl4Ho"
      }
    },
    {
      "cell_type": "code",
      "source": [
        "# Take input from the user\n",
        "text = input(\"Enter a string: \")\n",
        "\n",
        "# Initialize variables\n",
        "reversed_str = \"\"\n",
        "index = len(text) - 1\n",
        "\n",
        "# Reverse the string using while loop\n",
        "while index >= 0:\n",
        "    reversed_str += text[index]\n",
        "    index -= 1\n",
        "\n",
        "print(\"Reversed string:\", reversed_str)\n"
      ],
      "metadata": {
        "colab": {
          "base_uri": "https://localhost:8080/"
        },
        "collapsed": true,
        "id": "_a_LrOaomA4Z",
        "outputId": "595d21fc-d528-43d1-c6c9-7771487746fc"
      },
      "execution_count": 17,
      "outputs": [
        {
          "output_type": "stream",
          "name": "stdout",
          "text": [
            "Enter a string: hii am yash\n",
            "Reversed string: hsay ma iih\n"
          ]
        }
      ]
    },
    {
      "cell_type": "markdown",
      "source": [
        "Q15} Write a Python program to calculate the factorial of a number provided by the user using a while loop.\n",
        "\n",
        "Ans]"
      ],
      "metadata": {
        "id": "apuAqG2MmM7D"
      }
    },
    {
      "cell_type": "code",
      "source": [
        "# Take input from the user\n",
        "num = int(input(\"Enter a number: \"))\n",
        "\n",
        "# Initialize variables\n",
        "factorial = 1\n",
        "i = 1\n",
        "\n",
        "# Calculate factorial using while loop\n",
        "while i <= num:\n",
        "    factorial *= i\n",
        "    i += 1\n",
        "\n",
        "print(\"Factorial of\", num, \"is:\", factorial)\n"
      ],
      "metadata": {
        "colab": {
          "base_uri": "https://localhost:8080/"
        },
        "collapsed": true,
        "id": "k5D1nnRbmYzw",
        "outputId": "80ccb4ff-c8c4-43ba-ad5e-c4a297cbbddb"
      },
      "execution_count": 18,
      "outputs": [
        {
          "output_type": "stream",
          "name": "stdout",
          "text": [
            "Enter a number: 12\n",
            "Factorial of 12 is: 479001600\n"
          ]
        }
      ]
    }
  ]
}